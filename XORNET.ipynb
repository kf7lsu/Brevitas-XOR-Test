{
 "cells": [
  {
   "cell_type": "code",
   "execution_count": 1,
   "metadata": {},
   "outputs": [],
   "source": [
    "import numpy as np\n",
    "import brevitas.nn as qnn\n",
    "from brevitas.core.quant import QuantType\n",
    "from torch.nn import Module\n",
    "from torch import nn\n",
    "from torch import Tensor\n",
    "from torch import from_numpy\n",
    "import torch.optim as optim\n",
    "from torch.utils.data import Dataset\n",
    "from torch.utils.data import DataLoader\n",
    "from brevitas.quant_tensor import pack_quant_tensor"
   ]
  },
  {
   "cell_type": "code",
   "execution_count": 6,
   "metadata": {},
   "outputs": [],
   "source": [
    "class XorDataset(Dataset):\n",
    "    def __init__(self):\n",
    "        a = Tensor([0,0])\n",
    "        b = Tensor([0,1])\n",
    "        c = Tensor([1,0])\n",
    "        d = Tensor([1,1])\n",
    "        aq = pack_quant_tensor(a,4,1)\n",
    "        bq = pack_quant_tensor(b,4,1)\n",
    "        cq = pack_quant_tensor(c,4,1)\n",
    "        dq = pack_quant_tensor(d,4,1)\n",
    "        self.data=[aq,bq,cq,dq]\n",
    "        self.key=[0.,1.,1.,0.]\n",
    "\n",
    "    def __getitem__(self, index):\n",
    "        x = self.data[index]\n",
    "        y = self.key[index]\n",
    "        \n",
    "        return x, y\n",
    "    \n",
    "    def __len__(self):\n",
    "        return len(self.data)"
   ]
  },
  {
   "cell_type": "code",
   "execution_count": 7,
   "metadata": {},
   "outputs": [],
   "source": [
    "class QuantXORNet(Module):\n",
    "    def __init__(self):\n",
    "        super(QuantXORNet, self).__init__()\n",
    "        #self.batch1 = qnn.QuantBatchNorm2d(num_features=n_inputs, \n",
    "        #                                  momentum=0.6,\n",
    "        #                                  bias_quant_type=QuantType.INT)\n",
    "        self.relu0 = qnn.QuantReLU(quant_type=QuantType.INT,\n",
    "                                  bit_width=4,\n",
    "                                  max_val=8)\n",
    "        self.linear1 = qnn.QuantLinear(in_features = 2, \n",
    "                                       out_features=2, \n",
    "                                       bias_quant_type=QuantType.INT,\n",
    "                                       bias=True,\n",
    "                                       compute_output_scale=True,\n",
    "                                       compute_output_bit_width=True,\n",
    "                                       #input_bit_width=32,\n",
    "                                       weight_quant_type=QuantType.INT)\n",
    "        self.relu1 = qnn.QuantReLU(quant_type=QuantType.INT,\n",
    "                                  bit_width=4,\n",
    "                                  max_val=8)\n",
    "        #self.batch2 = qnn.QuantBatchNorm2d(num_features=31, \n",
    "        #                                   momentum=0.6,\n",
    "        #                                   bias_quant_type=QuantType.FP)\n",
    "        self.linear2 = qnn.QuantLinear(in_features = 2, \n",
    "                                       out_features=2, \n",
    "                                       bias_quant_type=QuantType.INT, \n",
    "                                       bias=True,\n",
    "                                       compute_output_scale=True,\n",
    "                                       compute_output_bit_width=True,\n",
    "                                       #bit_width=4,\n",
    "                                       weight_quant_type=QuantType.INT)\n",
    "        self.relu2 = qnn.QuantReLU(quant_type=QuantType.INT,\n",
    "                                  bit_width=4,\n",
    "                                  max_val=8)\n",
    "        #self.batch3 = qnn.QuantBatchNorm2d(num_features=11, \n",
    "        #                                   momentum=0.6,\n",
    "        #                                   bias_quant_type=QuantType.FP)\n",
    "        self.linear3 = qnn.QuantLinear(in_features = 2, \n",
    "                                       out_features=1, \n",
    "                                       bias_quant_type=QuantType.INT, \n",
    "                                       bias=True,\n",
    "                                       compute_output_scale=True,\n",
    "                                       compute_output_bit_width=True,\n",
    "                                       #bit_width=4,\n",
    "                                       weight_quant_type=QuantType.INT)\n",
    "    def forward(self, x):\n",
    "        res=x\n",
    "        #res = self.batch1(res)\n",
    "        #res = self.relu0(res)\n",
    "        res = self.linear1(res)\n",
    "        res = self.relu1(res)\n",
    "        #res = self.relu1(self.linear1(res))\n",
    "        #res = self.batch2(res)\n",
    "        res = self.relu2(self.linear2(res))\n",
    "        #res = self.batch3(res)\n",
    "        #res = self.relu3(self.linear3(res))\n",
    "        #res = self.batch4(res)\n",
    "        res = self.linear3(res)\n",
    "        return res"
   ]
  },
  {
   "cell_type": "code",
   "execution_count": 8,
   "metadata": {},
   "outputs": [],
   "source": [
    "model = QuantXORNet()"
   ]
  },
  {
   "cell_type": "code",
   "execution_count": 12,
   "metadata": {},
   "outputs": [
    {
     "name": "stdout",
     "output_type": "stream",
     "text": [
      "QuantTensor(tensor=tensor([[0., 0.]]), scale=tensor([4]), bit_width=tensor([1]))\n"
     ]
    },
    {
     "ename": "RuntimeError",
     "evalue": "\nround_vml_cpu not implemented for 'Long' (operator() at /opt/conda/conda-bld/pytorch_1556653099582/work/build/aten/src/ATen/native/cpu/UnaryOpsKernel.cpp.AVX2.cpp:212)\nframe #0: c10::Error::Error(c10::SourceLocation, std::string const&) + 0x45 (0x7fd130cdbdc5 in /opt/conda/lib/python3.6/site-packages/torch/lib/libc10.so)\nframe #1: <unknown function> + 0x11b7a31 (0x7fd1320aca31 in /opt/conda/lib/python3.6/site-packages/torch/lib/libcaffe2.so)\nframe #2: at::native::_round_out_cpu(at::Tensor&, at::Tensor const&) + 0xcb (0x7fd1316e2c4b in /opt/conda/lib/python3.6/site-packages/torch/lib/libcaffe2.so)\nframe #3: <unknown function> + 0x92aa68 (0x7fd13181fa68 in /opt/conda/lib/python3.6/site-packages/torch/lib/libcaffe2.so)\nframe #4: at::native::round(at::Tensor const&) + 0x69 (0x7fd1316dffc9 in /opt/conda/lib/python3.6/site-packages/torch/lib/libcaffe2.so)\nframe #5: at::TypeDefault::round(at::Tensor const&) const + 0x55 (0x7fd131982955 in /opt/conda/lib/python3.6/site-packages/torch/lib/libcaffe2.so)\nframe #6: torch::autograd::VariableType::round(at::Tensor const&) const + 0x424 (0x7fd129a7e4a4 in /opt/conda/lib/python3.6/site-packages/torch/lib/libtorch.so.1)\nframe #7: <unknown function> + 0x98629d (0x7fd129d5829d in /opt/conda/lib/python3.6/site-packages/torch/lib/libtorch.so.1)\nframe #8: <unknown function> + 0xa73df8 (0x7fd129e45df8 in /opt/conda/lib/python3.6/site-packages/torch/lib/libtorch.so.1)\nframe #9: torch::jit::InterpreterState::run(std::vector<c10::IValue, std::allocator<c10::IValue> >&) + 0x22 (0x7fd129e41372 in /opt/conda/lib/python3.6/site-packages/torch/lib/libtorch.so.1)\nframe #10: <unknown function> + 0xa5b2d9 (0x7fd129e2d2d9 in /opt/conda/lib/python3.6/site-packages/torch/lib/libtorch.so.1)\nframe #11: <unknown function> + 0x4582e3 (0x7fd1600102e3 in /opt/conda/lib/python3.6/site-packages/torch/lib/libtorch_python.so)\nframe #12: <unknown function> + 0x12ce4a (0x7fd15fce4e4a in /opt/conda/lib/python3.6/site-packages/torch/lib/libtorch_python.so)\nframe #13: _PyCFunction_FastCallDict + 0x154 (0x562f26a91744 in /opt/conda/bin/python)\nframe #14: _PyObject_FastCallDict + 0x2bf (0x562f26a91b5f in /opt/conda/bin/python)\nframe #15: _PyObject_Call_Prepend + 0x63 (0x562f26a966a3 in /opt/conda/bin/python)\nframe #16: PyObject_Call + 0x3e (0x562f26a9154e in /opt/conda/bin/python)\nframe #17: <unknown function> + 0x16ba91 (0x562f26aeba91 in /opt/conda/bin/python)\nframe #18: _PyObject_FastCallDict + 0x8b (0x562f26a9192b in /opt/conda/bin/python)\nframe #19: _PyObject_FastCallKeywords + 0xaa (0x562f26b12a5a in /opt/conda/bin/python)\nframe #20: <unknown function> + 0x19857e (0x562f26b1857e in /opt/conda/bin/python)\nframe #21: _PyEval_EvalFrameDefault + 0x10c7 (0x562f26b3e147 in /opt/conda/bin/python)\nframe #22: <unknown function> + 0x19253b (0x562f26b1253b in /opt/conda/bin/python)\nframe #23: <unknown function> + 0x198505 (0x562f26b18505 in /opt/conda/bin/python)\nframe #24: _PyEval_EvalFrameDefault + 0x30a (0x562f26b3d38a in /opt/conda/bin/python)\nframe #25: _PyFunction_FastCallDict + 0x11b (0x562f26b12bab in /opt/conda/bin/python)\nframe #26: _PyObject_FastCallDict + 0x26f (0x562f26a91b0f in /opt/conda/bin/python)\nframe #27: _PyObject_Call_Prepend + 0x63 (0x562f26a966a3 in /opt/conda/bin/python)\nframe #28: PyObject_Call + 0x3e (0x562f26a9154e in /opt/conda/bin/python)\nframe #29: _PyEval_EvalFrameDefault + 0x19ec (0x562f26b3ea6c in /opt/conda/bin/python)\nframe #30: <unknown function> + 0x1918e4 (0x562f26b118e4 in /opt/conda/bin/python)\nframe #31: _PyFunction_FastCallDict + 0x1bc (0x562f26b12c4c in /opt/conda/bin/python)\nframe #32: _PyObject_FastCallDict + 0x26f (0x562f26a91b0f in /opt/conda/bin/python)\nframe #33: _PyObject_Call_Prepend + 0x63 (0x562f26a966a3 in /opt/conda/bin/python)\nframe #34: PyObject_Call + 0x3e (0x562f26a9154e in /opt/conda/bin/python)\nframe #35: <unknown function> + 0x16ba91 (0x562f26aeba91 in /opt/conda/bin/python)\nframe #36: _PyObject_FastCallDict + 0x8b (0x562f26a9192b in /opt/conda/bin/python)\nframe #37: <unknown function> + 0x19857e (0x562f26b1857e in /opt/conda/bin/python)\nframe #38: _PyEval_EvalFrameDefault + 0x30a (0x562f26b3d38a in /opt/conda/bin/python)\nframe #39: _PyFunction_FastCallDict + 0x11b (0x562f26b12bab in /opt/conda/bin/python)\nframe #40: _PyObject_FastCallDict + 0x26f (0x562f26a91b0f in /opt/conda/bin/python)\nframe #41: _PyObject_Call_Prepend + 0x63 (0x562f26a966a3 in /opt/conda/bin/python)\nframe #42: PyObject_Call + 0x3e (0x562f26a9154e in /opt/conda/bin/python)\nframe #43: _PyEval_EvalFrameDefault + 0x19ec (0x562f26b3ea6c in /opt/conda/bin/python)\nframe #44: <unknown function> + 0x1918e4 (0x562f26b118e4 in /opt/conda/bin/python)\nframe #45: _PyFunction_FastCallDict + 0x1bc (0x562f26b12c4c in /opt/conda/bin/python)\nframe #46: _PyObject_FastCallDict + 0x26f (0x562f26a91b0f in /opt/conda/bin/python)\nframe #47: _PyObject_Call_Prepend + 0x63 (0x562f26a966a3 in /opt/conda/bin/python)\nframe #48: PyObject_Call + 0x3e (0x562f26a9154e in /opt/conda/bin/python)\nframe #49: <unknown function> + 0x16ba91 (0x562f26aeba91 in /opt/conda/bin/python)\nframe #50: _PyObject_FastCallDict + 0x8b (0x562f26a9192b in /opt/conda/bin/python)\nframe #51: <unknown function> + 0x19857e (0x562f26b1857e in /opt/conda/bin/python)\nframe #52: _PyEval_EvalFrameDefault + 0x30a (0x562f26b3d38a in /opt/conda/bin/python)\nframe #53: PyEval_EvalCodeEx + 0x329 (0x562f26b13289 in /opt/conda/bin/python)\nframe #54: PyEval_EvalCode + 0x1c (0x562f26b1401c in /opt/conda/bin/python)\nframe #55: <unknown function> + 0x1bad97 (0x562f26b3ad97 in /opt/conda/bin/python)\nframe #56: _PyCFunction_FastCallDict + 0x91 (0x562f26a91681 in /opt/conda/bin/python)\nframe #57: <unknown function> + 0x19842c (0x562f26b1842c in /opt/conda/bin/python)\nframe #58: _PyEval_EvalFrameDefault + 0x30a (0x562f26b3d38a in /opt/conda/bin/python)\nframe #59: _PyGen_Send + 0x256 (0x562f26b1b506 in /opt/conda/bin/python)\nframe #60: _PyEval_EvalFrameDefault + 0x13b5 (0x562f26b3e435 in /opt/conda/bin/python)\nframe #61: _PyGen_Send + 0x256 (0x562f26b1b506 in /opt/conda/bin/python)\nframe #62: _PyEval_EvalFrameDefault + 0x13b5 (0x562f26b3e435 in /opt/conda/bin/python)\nframe #63: _PyGen_Send + 0x256 (0x562f26b1b506 in /opt/conda/bin/python)\n:\noperation failed in interpreter:\n@torch.jit.script\ndef round_ste(x: torch.Tensor) -> torch.Tensor:\n    y = torch.round(x)\n        ~~~~~~~~~~~ <--- HERE\n    return _ste(x, y)\n",
     "output_type": "error",
     "traceback": [
      "\u001b[0;31m---------------------------------------------------------------------------\u001b[0m",
      "\u001b[0;31mRuntimeError\u001b[0m                              Traceback (most recent call last)",
      "\u001b[0;32m<ipython-input-12-a999a694195d>\u001b[0m in \u001b[0;36m<module>\u001b[0;34m\u001b[0m\n\u001b[1;32m     14\u001b[0m         \u001b[0;31m# forward + backward + optimize\u001b[0m\u001b[0;34m\u001b[0m\u001b[0;34m\u001b[0m\u001b[0;34m\u001b[0m\u001b[0m\n\u001b[1;32m     15\u001b[0m         \u001b[0mprint\u001b[0m\u001b[0;34m(\u001b[0m\u001b[0minputs\u001b[0m\u001b[0;34m)\u001b[0m\u001b[0;34m\u001b[0m\u001b[0;34m\u001b[0m\u001b[0m\n\u001b[0;32m---> 16\u001b[0;31m         \u001b[0moutputs\u001b[0m \u001b[0;34m=\u001b[0m \u001b[0mmodel\u001b[0m\u001b[0;34m(\u001b[0m\u001b[0minputs\u001b[0m\u001b[0;34m)\u001b[0m\u001b[0;34m\u001b[0m\u001b[0;34m\u001b[0m\u001b[0m\n\u001b[0m\u001b[1;32m     17\u001b[0m         \u001b[0mloss\u001b[0m \u001b[0;34m=\u001b[0m \u001b[0mcriterion\u001b[0m\u001b[0;34m(\u001b[0m\u001b[0moutputs\u001b[0m\u001b[0;34m,\u001b[0m \u001b[0mtarget\u001b[0m\u001b[0;34m)\u001b[0m\u001b[0;34m\u001b[0m\u001b[0;34m\u001b[0m\u001b[0m\n\u001b[1;32m     18\u001b[0m         \u001b[0mloss\u001b[0m\u001b[0;34m.\u001b[0m\u001b[0mbackward\u001b[0m\u001b[0;34m(\u001b[0m\u001b[0;34m)\u001b[0m\u001b[0;34m\u001b[0m\u001b[0;34m\u001b[0m\u001b[0m\n",
      "\u001b[0;32m/opt/conda/lib/python3.6/site-packages/torch/nn/modules/module.py\u001b[0m in \u001b[0;36m__call__\u001b[0;34m(self, *input, **kwargs)\u001b[0m\n\u001b[1;32m    491\u001b[0m             \u001b[0mresult\u001b[0m \u001b[0;34m=\u001b[0m \u001b[0mself\u001b[0m\u001b[0;34m.\u001b[0m\u001b[0m_slow_forward\u001b[0m\u001b[0;34m(\u001b[0m\u001b[0;34m*\u001b[0m\u001b[0minput\u001b[0m\u001b[0;34m,\u001b[0m \u001b[0;34m**\u001b[0m\u001b[0mkwargs\u001b[0m\u001b[0;34m)\u001b[0m\u001b[0;34m\u001b[0m\u001b[0;34m\u001b[0m\u001b[0m\n\u001b[1;32m    492\u001b[0m         \u001b[0;32melse\u001b[0m\u001b[0;34m:\u001b[0m\u001b[0;34m\u001b[0m\u001b[0;34m\u001b[0m\u001b[0m\n\u001b[0;32m--> 493\u001b[0;31m             \u001b[0mresult\u001b[0m \u001b[0;34m=\u001b[0m \u001b[0mself\u001b[0m\u001b[0;34m.\u001b[0m\u001b[0mforward\u001b[0m\u001b[0;34m(\u001b[0m\u001b[0;34m*\u001b[0m\u001b[0minput\u001b[0m\u001b[0;34m,\u001b[0m \u001b[0;34m**\u001b[0m\u001b[0mkwargs\u001b[0m\u001b[0;34m)\u001b[0m\u001b[0;34m\u001b[0m\u001b[0;34m\u001b[0m\u001b[0m\n\u001b[0m\u001b[1;32m    494\u001b[0m         \u001b[0;32mfor\u001b[0m \u001b[0mhook\u001b[0m \u001b[0;32min\u001b[0m \u001b[0mself\u001b[0m\u001b[0;34m.\u001b[0m\u001b[0m_forward_hooks\u001b[0m\u001b[0;34m.\u001b[0m\u001b[0mvalues\u001b[0m\u001b[0;34m(\u001b[0m\u001b[0;34m)\u001b[0m\u001b[0;34m:\u001b[0m\u001b[0;34m\u001b[0m\u001b[0;34m\u001b[0m\u001b[0m\n\u001b[1;32m    495\u001b[0m             \u001b[0mhook_result\u001b[0m \u001b[0;34m=\u001b[0m \u001b[0mhook\u001b[0m\u001b[0;34m(\u001b[0m\u001b[0mself\u001b[0m\u001b[0;34m,\u001b[0m \u001b[0minput\u001b[0m\u001b[0;34m,\u001b[0m \u001b[0mresult\u001b[0m\u001b[0;34m)\u001b[0m\u001b[0;34m\u001b[0m\u001b[0;34m\u001b[0m\u001b[0m\n",
      "\u001b[0;32m<ipython-input-7-ab74bfe2f5df>\u001b[0m in \u001b[0;36mforward\u001b[0;34m(self, x)\u001b[0m\n\u001b[1;32m     48\u001b[0m         \u001b[0;31m#res = self.batch1(res)\u001b[0m\u001b[0;34m\u001b[0m\u001b[0;34m\u001b[0m\u001b[0;34m\u001b[0m\u001b[0m\n\u001b[1;32m     49\u001b[0m         \u001b[0;31m#res = self.relu0(res)\u001b[0m\u001b[0;34m\u001b[0m\u001b[0;34m\u001b[0m\u001b[0;34m\u001b[0m\u001b[0m\n\u001b[0;32m---> 50\u001b[0;31m         \u001b[0mres\u001b[0m \u001b[0;34m=\u001b[0m \u001b[0mself\u001b[0m\u001b[0;34m.\u001b[0m\u001b[0mlinear1\u001b[0m\u001b[0;34m(\u001b[0m\u001b[0mres\u001b[0m\u001b[0;34m)\u001b[0m\u001b[0;34m\u001b[0m\u001b[0;34m\u001b[0m\u001b[0m\n\u001b[0m\u001b[1;32m     51\u001b[0m         \u001b[0mres\u001b[0m \u001b[0;34m=\u001b[0m \u001b[0mself\u001b[0m\u001b[0;34m.\u001b[0m\u001b[0mrelu1\u001b[0m\u001b[0;34m(\u001b[0m\u001b[0mres\u001b[0m\u001b[0;34m)\u001b[0m\u001b[0;34m\u001b[0m\u001b[0;34m\u001b[0m\u001b[0m\n\u001b[1;32m     52\u001b[0m         \u001b[0;31m#res = self.relu1(self.linear1(res))\u001b[0m\u001b[0;34m\u001b[0m\u001b[0;34m\u001b[0m\u001b[0;34m\u001b[0m\u001b[0m\n",
      "\u001b[0;32m/opt/conda/lib/python3.6/site-packages/torch/nn/modules/module.py\u001b[0m in \u001b[0;36m__call__\u001b[0;34m(self, *input, **kwargs)\u001b[0m\n\u001b[1;32m    491\u001b[0m             \u001b[0mresult\u001b[0m \u001b[0;34m=\u001b[0m \u001b[0mself\u001b[0m\u001b[0;34m.\u001b[0m\u001b[0m_slow_forward\u001b[0m\u001b[0;34m(\u001b[0m\u001b[0;34m*\u001b[0m\u001b[0minput\u001b[0m\u001b[0;34m,\u001b[0m \u001b[0;34m**\u001b[0m\u001b[0mkwargs\u001b[0m\u001b[0;34m)\u001b[0m\u001b[0;34m\u001b[0m\u001b[0;34m\u001b[0m\u001b[0m\n\u001b[1;32m    492\u001b[0m         \u001b[0;32melse\u001b[0m\u001b[0;34m:\u001b[0m\u001b[0;34m\u001b[0m\u001b[0;34m\u001b[0m\u001b[0m\n\u001b[0;32m--> 493\u001b[0;31m             \u001b[0mresult\u001b[0m \u001b[0;34m=\u001b[0m \u001b[0mself\u001b[0m\u001b[0;34m.\u001b[0m\u001b[0mforward\u001b[0m\u001b[0;34m(\u001b[0m\u001b[0;34m*\u001b[0m\u001b[0minput\u001b[0m\u001b[0;34m,\u001b[0m \u001b[0;34m**\u001b[0m\u001b[0mkwargs\u001b[0m\u001b[0;34m)\u001b[0m\u001b[0;34m\u001b[0m\u001b[0;34m\u001b[0m\u001b[0m\n\u001b[0m\u001b[1;32m    494\u001b[0m         \u001b[0;32mfor\u001b[0m \u001b[0mhook\u001b[0m \u001b[0;32min\u001b[0m \u001b[0mself\u001b[0m\u001b[0;34m.\u001b[0m\u001b[0m_forward_hooks\u001b[0m\u001b[0;34m.\u001b[0m\u001b[0mvalues\u001b[0m\u001b[0;34m(\u001b[0m\u001b[0;34m)\u001b[0m\u001b[0;34m:\u001b[0m\u001b[0;34m\u001b[0m\u001b[0;34m\u001b[0m\u001b[0m\n\u001b[1;32m    495\u001b[0m             \u001b[0mhook_result\u001b[0m \u001b[0;34m=\u001b[0m \u001b[0mhook\u001b[0m\u001b[0;34m(\u001b[0m\u001b[0mself\u001b[0m\u001b[0;34m,\u001b[0m \u001b[0minput\u001b[0m\u001b[0;34m,\u001b[0m \u001b[0mresult\u001b[0m\u001b[0;34m)\u001b[0m\u001b[0;34m\u001b[0m\u001b[0;34m\u001b[0m\u001b[0m\n",
      "\u001b[0;32m/workspace/brevitas/brevitas/nn/quant_linear.py\u001b[0m in \u001b[0;36mforward\u001b[0;34m(self, input)\u001b[0m\n\u001b[1;32m    255\u001b[0m \u001b[0;34m\u001b[0m\u001b[0m\n\u001b[1;32m    256\u001b[0m             \u001b[0;32mif\u001b[0m \u001b[0mself\u001b[0m\u001b[0;34m.\u001b[0m\u001b[0mcompute_output_bit_width\u001b[0m\u001b[0;34m:\u001b[0m\u001b[0;34m\u001b[0m\u001b[0;34m\u001b[0m\u001b[0m\n\u001b[0;32m--> 257\u001b[0;31m                 \u001b[0moutput_bit_width\u001b[0m \u001b[0;34m=\u001b[0m \u001b[0mself\u001b[0m\u001b[0;34m.\u001b[0m\u001b[0mmax_output_bit_width\u001b[0m\u001b[0;34m(\u001b[0m\u001b[0minput_bit_width\u001b[0m\u001b[0;34m,\u001b[0m \u001b[0mquant_weight_bit_width\u001b[0m\u001b[0;34m)\u001b[0m\u001b[0;34m\u001b[0m\u001b[0;34m\u001b[0m\u001b[0m\n\u001b[0m\u001b[1;32m    258\u001b[0m             \u001b[0;32mif\u001b[0m \u001b[0mself\u001b[0m\u001b[0;34m.\u001b[0m\u001b[0mcompute_output_scale\u001b[0m\u001b[0;34m:\u001b[0m\u001b[0;34m\u001b[0m\u001b[0;34m\u001b[0m\u001b[0m\n\u001b[1;32m    259\u001b[0m                 \u001b[0moutput_scale\u001b[0m \u001b[0;34m=\u001b[0m \u001b[0minput_scale\u001b[0m \u001b[0;34m*\u001b[0m \u001b[0mquant_weight_scale\u001b[0m\u001b[0;34m\u001b[0m\u001b[0;34m\u001b[0m\u001b[0m\n",
      "\u001b[0;32m/workspace/brevitas/brevitas/nn/quant_linear.py\u001b[0m in \u001b[0;36mmax_output_bit_width\u001b[0;34m(self, input_bit_width, weight_bit_width)\u001b[0m\n\u001b[1;32m    267\u001b[0m \u001b[0;34m\u001b[0m\u001b[0m\n\u001b[1;32m    268\u001b[0m     \u001b[0;32mdef\u001b[0m \u001b[0mmax_output_bit_width\u001b[0m\u001b[0;34m(\u001b[0m\u001b[0mself\u001b[0m\u001b[0;34m,\u001b[0m \u001b[0minput_bit_width\u001b[0m\u001b[0;34m,\u001b[0m \u001b[0mweight_bit_width\u001b[0m\u001b[0;34m)\u001b[0m\u001b[0;34m:\u001b[0m\u001b[0;34m\u001b[0m\u001b[0;34m\u001b[0m\u001b[0m\n\u001b[0;32m--> 269\u001b[0;31m         \u001b[0mmax_input_val\u001b[0m \u001b[0;34m=\u001b[0m \u001b[0mmax_uint\u001b[0m\u001b[0;34m(\u001b[0m\u001b[0mbit_width\u001b[0m\u001b[0;34m=\u001b[0m\u001b[0minput_bit_width\u001b[0m\u001b[0;34m,\u001b[0m \u001b[0mnarrow_range\u001b[0m\u001b[0;34m=\u001b[0m\u001b[0;32mFalse\u001b[0m\u001b[0;34m)\u001b[0m\u001b[0;34m\u001b[0m\u001b[0;34m\u001b[0m\u001b[0m\n\u001b[0m\u001b[1;32m    270\u001b[0m         \u001b[0mmax_fc_val\u001b[0m \u001b[0;34m=\u001b[0m \u001b[0mself\u001b[0m\u001b[0;34m.\u001b[0m\u001b[0mweight_quant\u001b[0m\u001b[0;34m.\u001b[0m\u001b[0mtensor_quant\u001b[0m\u001b[0;34m.\u001b[0m\u001b[0mint_quant\u001b[0m\u001b[0;34m.\u001b[0m\u001b[0mmax_uint\u001b[0m\u001b[0;34m(\u001b[0m\u001b[0mweight_bit_width\u001b[0m\u001b[0;34m)\u001b[0m\u001b[0;34m\u001b[0m\u001b[0;34m\u001b[0m\u001b[0m\n\u001b[1;32m    271\u001b[0m         \u001b[0mmax_output_val\u001b[0m \u001b[0;34m=\u001b[0m \u001b[0mmax_input_val\u001b[0m \u001b[0;34m*\u001b[0m \u001b[0mmax_fc_val\u001b[0m \u001b[0;34m*\u001b[0m \u001b[0mself\u001b[0m\u001b[0;34m.\u001b[0m\u001b[0min_features\u001b[0m\u001b[0;34m\u001b[0m\u001b[0;34m\u001b[0m\u001b[0m\n",
      "\u001b[0;31mRuntimeError\u001b[0m: \nround_vml_cpu not implemented for 'Long' (operator() at /opt/conda/conda-bld/pytorch_1556653099582/work/build/aten/src/ATen/native/cpu/UnaryOpsKernel.cpp.AVX2.cpp:212)\nframe #0: c10::Error::Error(c10::SourceLocation, std::string const&) + 0x45 (0x7fd130cdbdc5 in /opt/conda/lib/python3.6/site-packages/torch/lib/libc10.so)\nframe #1: <unknown function> + 0x11b7a31 (0x7fd1320aca31 in /opt/conda/lib/python3.6/site-packages/torch/lib/libcaffe2.so)\nframe #2: at::native::_round_out_cpu(at::Tensor&, at::Tensor const&) + 0xcb (0x7fd1316e2c4b in /opt/conda/lib/python3.6/site-packages/torch/lib/libcaffe2.so)\nframe #3: <unknown function> + 0x92aa68 (0x7fd13181fa68 in /opt/conda/lib/python3.6/site-packages/torch/lib/libcaffe2.so)\nframe #4: at::native::round(at::Tensor const&) + 0x69 (0x7fd1316dffc9 in /opt/conda/lib/python3.6/site-packages/torch/lib/libcaffe2.so)\nframe #5: at::TypeDefault::round(at::Tensor const&) const + 0x55 (0x7fd131982955 in /opt/conda/lib/python3.6/site-packages/torch/lib/libcaffe2.so)\nframe #6: torch::autograd::VariableType::round(at::Tensor const&) const + 0x424 (0x7fd129a7e4a4 in /opt/conda/lib/python3.6/site-packages/torch/lib/libtorch.so.1)\nframe #7: <unknown function> + 0x98629d (0x7fd129d5829d in /opt/conda/lib/python3.6/site-packages/torch/lib/libtorch.so.1)\nframe #8: <unknown function> + 0xa73df8 (0x7fd129e45df8 in /opt/conda/lib/python3.6/site-packages/torch/lib/libtorch.so.1)\nframe #9: torch::jit::InterpreterState::run(std::vector<c10::IValue, std::allocator<c10::IValue> >&) + 0x22 (0x7fd129e41372 in /opt/conda/lib/python3.6/site-packages/torch/lib/libtorch.so.1)\nframe #10: <unknown function> + 0xa5b2d9 (0x7fd129e2d2d9 in /opt/conda/lib/python3.6/site-packages/torch/lib/libtorch.so.1)\nframe #11: <unknown function> + 0x4582e3 (0x7fd1600102e3 in /opt/conda/lib/python3.6/site-packages/torch/lib/libtorch_python.so)\nframe #12: <unknown function> + 0x12ce4a (0x7fd15fce4e4a in /opt/conda/lib/python3.6/site-packages/torch/lib/libtorch_python.so)\nframe #13: _PyCFunction_FastCallDict + 0x154 (0x562f26a91744 in /opt/conda/bin/python)\nframe #14: _PyObject_FastCallDict + 0x2bf (0x562f26a91b5f in /opt/conda/bin/python)\nframe #15: _PyObject_Call_Prepend + 0x63 (0x562f26a966a3 in /opt/conda/bin/python)\nframe #16: PyObject_Call + 0x3e (0x562f26a9154e in /opt/conda/bin/python)\nframe #17: <unknown function> + 0x16ba91 (0x562f26aeba91 in /opt/conda/bin/python)\nframe #18: _PyObject_FastCallDict + 0x8b (0x562f26a9192b in /opt/conda/bin/python)\nframe #19: _PyObject_FastCallKeywords + 0xaa (0x562f26b12a5a in /opt/conda/bin/python)\nframe #20: <unknown function> + 0x19857e (0x562f26b1857e in /opt/conda/bin/python)\nframe #21: _PyEval_EvalFrameDefault + 0x10c7 (0x562f26b3e147 in /opt/conda/bin/python)\nframe #22: <unknown function> + 0x19253b (0x562f26b1253b in /opt/conda/bin/python)\nframe #23: <unknown function> + 0x198505 (0x562f26b18505 in /opt/conda/bin/python)\nframe #24: _PyEval_EvalFrameDefault + 0x30a (0x562f26b3d38a in /opt/conda/bin/python)\nframe #25: _PyFunction_FastCallDict + 0x11b (0x562f26b12bab in /opt/conda/bin/python)\nframe #26: _PyObject_FastCallDict + 0x26f (0x562f26a91b0f in /opt/conda/bin/python)\nframe #27: _PyObject_Call_Prepend + 0x63 (0x562f26a966a3 in /opt/conda/bin/python)\nframe #28: PyObject_Call + 0x3e (0x562f26a9154e in /opt/conda/bin/python)\nframe #29: _PyEval_EvalFrameDefault + 0x19ec (0x562f26b3ea6c in /opt/conda/bin/python)\nframe #30: <unknown function> + 0x1918e4 (0x562f26b118e4 in /opt/conda/bin/python)\nframe #31: _PyFunction_FastCallDict + 0x1bc (0x562f26b12c4c in /opt/conda/bin/python)\nframe #32: _PyObject_FastCallDict + 0x26f (0x562f26a91b0f in /opt/conda/bin/python)\nframe #33: _PyObject_Call_Prepend + 0x63 (0x562f26a966a3 in /opt/conda/bin/python)\nframe #34: PyObject_Call + 0x3e (0x562f26a9154e in /opt/conda/bin/python)\nframe #35: <unknown function> + 0x16ba91 (0x562f26aeba91 in /opt/conda/bin/python)\nframe #36: _PyObject_FastCallDict + 0x8b (0x562f26a9192b in /opt/conda/bin/python)\nframe #37: <unknown function> + 0x19857e (0x562f26b1857e in /opt/conda/bin/python)\nframe #38: _PyEval_EvalFrameDefault + 0x30a (0x562f26b3d38a in /opt/conda/bin/python)\nframe #39: _PyFunction_FastCallDict + 0x11b (0x562f26b12bab in /opt/conda/bin/python)\nframe #40: _PyObject_FastCallDict + 0x26f (0x562f26a91b0f in /opt/conda/bin/python)\nframe #41: _PyObject_Call_Prepend + 0x63 (0x562f26a966a3 in /opt/conda/bin/python)\nframe #42: PyObject_Call + 0x3e (0x562f26a9154e in /opt/conda/bin/python)\nframe #43: _PyEval_EvalFrameDefault + 0x19ec (0x562f26b3ea6c in /opt/conda/bin/python)\nframe #44: <unknown function> + 0x1918e4 (0x562f26b118e4 in /opt/conda/bin/python)\nframe #45: _PyFunction_FastCallDict + 0x1bc (0x562f26b12c4c in /opt/conda/bin/python)\nframe #46: _PyObject_FastCallDict + 0x26f (0x562f26a91b0f in /opt/conda/bin/python)\nframe #47: _PyObject_Call_Prepend + 0x63 (0x562f26a966a3 in /opt/conda/bin/python)\nframe #48: PyObject_Call + 0x3e (0x562f26a9154e in /opt/conda/bin/python)\nframe #49: <unknown function> + 0x16ba91 (0x562f26aeba91 in /opt/conda/bin/python)\nframe #50: _PyObject_FastCallDict + 0x8b (0x562f26a9192b in /opt/conda/bin/python)\nframe #51: <unknown function> + 0x19857e (0x562f26b1857e in /opt/conda/bin/python)\nframe #52: _PyEval_EvalFrameDefault + 0x30a (0x562f26b3d38a in /opt/conda/bin/python)\nframe #53: PyEval_EvalCodeEx + 0x329 (0x562f26b13289 in /opt/conda/bin/python)\nframe #54: PyEval_EvalCode + 0x1c (0x562f26b1401c in /opt/conda/bin/python)\nframe #55: <unknown function> + 0x1bad97 (0x562f26b3ad97 in /opt/conda/bin/python)\nframe #56: _PyCFunction_FastCallDict + 0x91 (0x562f26a91681 in /opt/conda/bin/python)\nframe #57: <unknown function> + 0x19842c (0x562f26b1842c in /opt/conda/bin/python)\nframe #58: _PyEval_EvalFrameDefault + 0x30a (0x562f26b3d38a in /opt/conda/bin/python)\nframe #59: _PyGen_Send + 0x256 (0x562f26b1b506 in /opt/conda/bin/python)\nframe #60: _PyEval_EvalFrameDefault + 0x13b5 (0x562f26b3e435 in /opt/conda/bin/python)\nframe #61: _PyGen_Send + 0x256 (0x562f26b1b506 in /opt/conda/bin/python)\nframe #62: _PyEval_EvalFrameDefault + 0x13b5 (0x562f26b3e435 in /opt/conda/bin/python)\nframe #63: _PyGen_Send + 0x256 (0x562f26b1b506 in /opt/conda/bin/python)\n:\noperation failed in interpreter:\n@torch.jit.script\ndef round_ste(x: torch.Tensor) -> torch.Tensor:\n    y = torch.round(x)\n        ~~~~~~~~~~~ <--- HERE\n    return _ste(x, y)\n"
     ]
    }
   ],
   "source": [
    "optimizer = optim.SGD(model.parameters(), lr=0.1, momentum=0.9)\n",
    "criterion = nn.MSELoss()\n",
    "loader = DataLoader(XorDataset())\n",
    "\n",
    "for epoch in range(2):  # loop over the dataset multiple times\n",
    "    model.train()\n",
    "    criterion.train()\n",
    "    running_loss = 0.0\n",
    "    for i, data in enumerate(loader):\n",
    "        # zero the parameter gradients\n",
    "        optimizer.zero_grad()\n",
    "        inputs,target = data\n",
    "\n",
    "        # forward + backward + optimize\n",
    "        print(inputs)\n",
    "        outputs = model(inputs)\n",
    "        loss = criterion(outputs, target)\n",
    "        loss.backward()\n",
    "        optimizer.step()\n",
    "\n",
    "        # print statistics\n",
    "        running_loss += loss.item()\n",
    "        if i % 2000 == 1999:    # print every 2000 mini-batches\n",
    "            print('[%d, %5d] loss: %.3f' %\n",
    "                  (epoch + 1, i + 1, running_loss / 2000))\n",
    "            running_loss = 0.0\n",
    "\n",
    "print('Finished Training')"
   ]
  },
  {
   "cell_type": "code",
   "execution_count": null,
   "metadata": {},
   "outputs": [],
   "source": []
  }
 ],
 "metadata": {
  "kernelspec": {
   "display_name": "Python 3",
   "language": "python",
   "name": "python3"
  },
  "language_info": {
   "codemirror_mode": {
    "name": "ipython",
    "version": 3
   },
   "file_extension": ".py",
   "mimetype": "text/x-python",
   "name": "python",
   "nbconvert_exporter": "python",
   "pygments_lexer": "ipython3",
   "version": "3.6.8"
  }
 },
 "nbformat": 4,
 "nbformat_minor": 4
}
